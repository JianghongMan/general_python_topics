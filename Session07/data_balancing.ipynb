{
 "cells": [
  {
   "cell_type": "markdown",
   "metadata": {},
   "source": [
    "![Image](https://drive.google.com/uc?export=view&id=10B8NecPfn9sXRescmijQ8Zc2CO08fQm7)\n",
    "\n",
    "## Data Imputation - Balancing & Resampling\n",
    "### ACC Tech Challenge Series, Winter 2020\n",
    "### Harper Xiang\n",
    "\n",
    "Training a machine learning model on an imbalanced dataset can introduce unique challenges to the learning problem. Imbalanced data typically refers to a classification problem where the number of observations per class is not equally distributed; often you'll have a large amount of data/observations for one class (referred to as the majority class), and much fewer observations for one or more other classes (referred to as the minority classes).\n",
    "https://www.jeremyjordan.me/imbalanced-data/"
   ]
  },
  {
   "cell_type": "code",
   "execution_count": 1,
   "metadata": {},
   "outputs": [],
   "source": [
    "import pandas as pd\n",
    "import numpy as np\n",
    "import seaborn as sns\n",
    "import matplotlib.pyplot as plt\n",
    "%matplotlib inline"
   ]
  },
  {
   "cell_type": "code",
   "execution_count": 2,
   "metadata": {},
   "outputs": [],
   "source": [
    "datapath = \"data/\"\n",
    "file_name = \"inbalanced.csv\""
   ]
  },
  {
   "cell_type": "code",
   "execution_count": 3,
   "metadata": {},
   "outputs": [
    {
     "data": {
      "text/plain": [
       "(70428, 7)"
      ]
     },
     "execution_count": 3,
     "metadata": {},
     "output_type": "execute_result"
    }
   ],
   "source": [
    "df_total = pd.read_csv(datapath+file_name)\n",
    "df_total.shape"
   ]
  },
  {
   "cell_type": "code",
   "execution_count": 4,
   "metadata": {},
   "outputs": [
    {
     "data": {
      "text/html": [
       "<div>\n",
       "<style scoped>\n",
       "    .dataframe tbody tr th:only-of-type {\n",
       "        vertical-align: middle;\n",
       "    }\n",
       "\n",
       "    .dataframe tbody tr th {\n",
       "        vertical-align: top;\n",
       "    }\n",
       "\n",
       "    .dataframe thead th {\n",
       "        text-align: right;\n",
       "    }\n",
       "</style>\n",
       "<table border=\"1\" class=\"dataframe\">\n",
       "  <thead>\n",
       "    <tr style=\"text-align: right;\">\n",
       "      <th></th>\n",
       "      <th>fullVisitorId</th>\n",
       "      <th>avg_pageviews</th>\n",
       "      <th>subContinent_Northern America</th>\n",
       "      <th>avg_hits</th>\n",
       "      <th>bounces</th>\n",
       "      <th>transactionRevenue</th>\n",
       "      <th>trans_label</th>\n",
       "    </tr>\n",
       "  </thead>\n",
       "  <tbody>\n",
       "    <tr>\n",
       "      <th>0</th>\n",
       "      <td>6577012298964649552</td>\n",
       "      <td>2.0</td>\n",
       "      <td>0.0</td>\n",
       "      <td>2.0</td>\n",
       "      <td>0.0</td>\n",
       "      <td>0.0</td>\n",
       "      <td>0</td>\n",
       "    </tr>\n",
       "    <tr>\n",
       "      <th>1</th>\n",
       "      <td>1492952808289580535</td>\n",
       "      <td>3.5</td>\n",
       "      <td>2.0</td>\n",
       "      <td>5.5</td>\n",
       "      <td>0.0</td>\n",
       "      <td>0.0</td>\n",
       "      <td>0</td>\n",
       "    </tr>\n",
       "    <tr>\n",
       "      <th>2</th>\n",
       "      <td>3056727511747081031</td>\n",
       "      <td>1.0</td>\n",
       "      <td>0.0</td>\n",
       "      <td>1.0</td>\n",
       "      <td>1.0</td>\n",
       "      <td>0.0</td>\n",
       "      <td>0</td>\n",
       "    </tr>\n",
       "    <tr>\n",
       "      <th>3</th>\n",
       "      <td>540875193565460002</td>\n",
       "      <td>6.0</td>\n",
       "      <td>0.0</td>\n",
       "      <td>8.0</td>\n",
       "      <td>0.0</td>\n",
       "      <td>0.0</td>\n",
       "      <td>0</td>\n",
       "    </tr>\n",
       "    <tr>\n",
       "      <th>4</th>\n",
       "      <td>5904797111043658556</td>\n",
       "      <td>1.0</td>\n",
       "      <td>0.0</td>\n",
       "      <td>1.0</td>\n",
       "      <td>1.0</td>\n",
       "      <td>0.0</td>\n",
       "      <td>0</td>\n",
       "    </tr>\n",
       "  </tbody>\n",
       "</table>\n",
       "</div>"
      ],
      "text/plain": [
       "         fullVisitorId  avg_pageviews  subContinent_Northern America  \\\n",
       "0  6577012298964649552            2.0                            0.0   \n",
       "1  1492952808289580535            3.5                            2.0   \n",
       "2  3056727511747081031            1.0                            0.0   \n",
       "3   540875193565460002            6.0                            0.0   \n",
       "4  5904797111043658556            1.0                            0.0   \n",
       "\n",
       "   avg_hits  bounces  transactionRevenue  trans_label  \n",
       "0       2.0      0.0                 0.0            0  \n",
       "1       5.5      0.0                 0.0            0  \n",
       "2       1.0      1.0                 0.0            0  \n",
       "3       8.0      0.0                 0.0            0  \n",
       "4       1.0      1.0                 0.0            0  "
      ]
     },
     "execution_count": 4,
     "metadata": {},
     "output_type": "execute_result"
    }
   ],
   "source": [
    "df_total.head()"
   ]
  },
  {
   "cell_type": "code",
   "execution_count": 6,
   "metadata": {},
   "outputs": [
    {
     "name": "stdout",
     "output_type": "stream",
     "text": [
      "(70428, 5) (70428, 1)\n"
     ]
    }
   ],
   "source": [
    "# Target variable is \"trans_label\"\n",
    "\n",
    "dfx1 = df_total.drop([\"fullVisitorId\", \"trans_label\"], axis=1)\n",
    "dfy1 = pd.DataFrame({\"trans_label\" : df_total[\"trans_label\"]})\n",
    "print(dfx1.shape, dfy1.shape)"
   ]
  },
  {
   "cell_type": "code",
   "execution_count": 7,
   "metadata": {},
   "outputs": [
    {
     "data": {
      "text/plain": [
       "0    69438\n",
       "1      990\n",
       "Name: trans_label, dtype: int64"
      ]
     },
     "execution_count": 7,
     "metadata": {},
     "output_type": "execute_result"
    }
   ],
   "source": [
    "dfy1[\"trans_label\"].value_counts()"
   ]
  },
  {
   "cell_type": "code",
   "execution_count": 8,
   "metadata": {},
   "outputs": [],
   "source": [
    "# features selected by their importance\n",
    "features_selected = ['avg_pageviews',\n",
    "                     'subContinent_Northern America',\n",
    "                     'avg_hits',\n",
    "                     'bounces']"
   ]
  },
  {
   "cell_type": "code",
   "execution_count": 9,
   "metadata": {},
   "outputs": [
    {
     "data": {
      "text/plain": [
       "(70428, 4)"
      ]
     },
     "execution_count": 9,
     "metadata": {},
     "output_type": "execute_result"
    }
   ],
   "source": [
    "dfx1 = dfx1[features_selected]\n",
    "dfx1.shape"
   ]
  },
  {
   "cell_type": "markdown",
   "metadata": {},
   "source": [
    "## Predictor Variables Standardization"
   ]
  },
  {
   "cell_type": "code",
   "execution_count": 10,
   "metadata": {},
   "outputs": [],
   "source": [
    "from sklearn.preprocessing import StandardScaler"
   ]
  },
  {
   "cell_type": "code",
   "execution_count": 11,
   "metadata": {},
   "outputs": [],
   "source": [
    "def standardize_dataframe(df):\n",
    "    '''\n",
    "    Use StandardScaler to standardizing a dataframe\n",
    "    ----------\n",
    "    Parameters\n",
    "    df: A dataframe\n",
    "    ----------\n",
    "    Returns\n",
    "    scaled_array: A standardized numpy.array\n",
    "    '''\n",
    "    stscaler = StandardScaler().fit(df)\n",
    "    scaled_array = stscaler.transform(df)\n",
    "    return scaled_array"
   ]
  },
  {
   "cell_type": "code",
   "execution_count": 12,
   "metadata": {},
   "outputs": [
    {
     "data": {
      "text/plain": [
       "(70428, 4)"
      ]
     },
     "execution_count": 12,
     "metadata": {},
     "output_type": "execute_result"
    }
   ],
   "source": [
    "# Standardize the dataframe\n",
    "\n",
    "dfx2 = standardize_dataframe(dfx1)\n",
    "dfx2 = pd.DataFrame(dfx2, columns=dfx1.columns)\n",
    "dfx2.shape"
   ]
  },
  {
   "cell_type": "markdown",
   "metadata": {},
   "source": [
    "## Train & Test Split"
   ]
  },
  {
   "cell_type": "code",
   "execution_count": 14,
   "metadata": {},
   "outputs": [],
   "source": [
    "from sklearn.model_selection import train_test_split"
   ]
  },
  {
   "cell_type": "code",
   "execution_count": 16,
   "metadata": {},
   "outputs": [
    {
     "name": "stdout",
     "output_type": "stream",
     "text": [
      "(49299, 4) (49299, 1) (21129, 4) (21129, 1)\n"
     ]
    }
   ],
   "source": [
    "X_train_ib, X_test_ib, y_train_ib, y_test_ib = \\\n",
    "train_test_split(dfx2, dfy1, test_size=0.3, random_state=42)\n",
    "\n",
    "print(X_train_ib.shape, y_train_ib.shape, X_test_ib.shape, y_test_ib.shape)"
   ]
  },
  {
   "cell_type": "markdown",
   "metadata": {},
   "source": [
    "## Resample the Imbalanced Data"
   ]
  },
  {
   "cell_type": "code",
   "execution_count": 17,
   "metadata": {},
   "outputs": [
    {
     "name": "stderr",
     "output_type": "stream",
     "text": [
      "Using TensorFlow backend.\n",
      "/Users/Harper/anaconda3/lib/python3.6/importlib/_bootstrap.py:219: RuntimeWarning: compiletime version 3.5 of module 'tensorflow.python.framework.fast_tensor_util' does not match runtime version 3.6\n",
      "  return f(*args, **kwds)\n"
     ]
    }
   ],
   "source": [
    "from imblearn.over_sampling import SMOTE"
   ]
  },
  {
   "cell_type": "code",
   "execution_count": 18,
   "metadata": {},
   "outputs": [
    {
     "name": "stdout",
     "output_type": "stream",
     "text": [
      "(58353, 4) (58353, 1)\n"
     ]
    }
   ],
   "source": [
    "# Resample the dataset\n",
    "\n",
    "smote = SMOTE(sampling_strategy=0.2)\n",
    "X_train_bd, y_train_bd = smote.fit_resample(X_train_ib, y_train_ib)\n",
    "print(X_train_bd.shape, y_train_bd.shape)"
   ]
  },
  {
   "cell_type": "code",
   "execution_count": 19,
   "metadata": {},
   "outputs": [
    {
     "data": {
      "text/plain": [
       "0    48628\n",
       "1     9725\n",
       "Name: trans_label, dtype: int64"
      ]
     },
     "execution_count": 19,
     "metadata": {},
     "output_type": "execute_result"
    }
   ],
   "source": [
    "y_train_bd[\"trans_label\"].value_counts()"
   ]
  },
  {
   "cell_type": "markdown",
   "metadata": {},
   "source": [
    "## Modeling over Inbalanced Data"
   ]
  },
  {
   "cell_type": "code",
   "execution_count": 22,
   "metadata": {},
   "outputs": [],
   "source": [
    "from sklearn.linear_model import LogisticRegression\n",
    "# from sklearn.tree         import DecisionTreeClassifier\n",
    "# from sklearn.svm          import SVC\n",
    "# from sklearn.ensemble     import RandomForestRegressor\n",
    "from sklearn.metrics      import mean_squared_error, r2_score\n",
    "from sklearn.metrics      import accuracy_score, classification_report, f1_score, precision_score, recall_score\n",
    "# import pickle"
   ]
  },
  {
   "cell_type": "code",
   "execution_count": 23,
   "metadata": {},
   "outputs": [
    {
     "name": "stderr",
     "output_type": "stream",
     "text": [
      "/Users/Harper/anaconda3/lib/python3.6/site-packages/sklearn/utils/validation.py:760: DataConversionWarning: A column-vector y was passed when a 1d array was expected. Please change the shape of y to (n_samples, ), for example using ravel().\n",
      "  y = column_or_1d(y, warn=True)\n"
     ]
    },
    {
     "data": {
      "text/plain": [
       "LogisticRegression(C=1.0, class_weight=None, dual=False, fit_intercept=True,\n",
       "                   intercept_scaling=1, l1_ratio=None, max_iter=100,\n",
       "                   multi_class='auto', n_jobs=None, penalty='l2',\n",
       "                   random_state=None, solver='lbfgs', tol=0.0001, verbose=0,\n",
       "                   warm_start=False)"
      ]
     },
     "execution_count": 23,
     "metadata": {},
     "output_type": "execute_result"
    }
   ],
   "source": [
    "# Run Logistic Regression\n",
    "\n",
    "s1_lr = LogisticRegression()\n",
    "s1_lr.fit(X_train_ib, y_train_ib)"
   ]
  },
  {
   "cell_type": "code",
   "execution_count": 24,
   "metadata": {},
   "outputs": [
    {
     "name": "stdout",
     "output_type": "stream",
     "text": [
      "Train Accuracy   : 0.985760360250715\n",
      "              precision    recall  f1-score   support\n",
      "\n",
      "           0       0.99      1.00      0.99     48628\n",
      "           1       0.43      0.15      0.23       671\n",
      "\n",
      "    accuracy                           0.99     49299\n",
      "   macro avg       0.71      0.57      0.61     49299\n",
      "weighted avg       0.98      0.99      0.98     49299\n",
      "\n",
      "==============================\n",
      "Test  Accuracy   : 0.9858961616735292\n",
      "              precision    recall  f1-score   support\n",
      "\n",
      "           0       0.99      1.00      0.99     20810\n",
      "           1       0.60      0.20      0.30       319\n",
      "\n",
      "    accuracy                           0.99     21129\n",
      "   macro avg       0.79      0.60      0.65     21129\n",
      "weighted avg       0.98      0.99      0.98     21129\n",
      "\n"
     ]
    }
   ],
   "source": [
    "# model evaluation\n",
    "labels = [0, 1]\n",
    "\n",
    "y_pred_train = s1_lr.predict(X_train_ib)\n",
    "accuracy = accuracy_score(y_train_ib, y_pred_train)\n",
    "classrpt = classification_report(y_train_ib, y_pred_train, labels=labels)\n",
    "print(f\"Train Accuracy   : {accuracy}\")\n",
    "print(classrpt)\n",
    "print(\"==============================\")\n",
    "\n",
    "y_pred_test = s1_lr.predict(X_test_ib)\n",
    "accuracy = accuracy_score(y_test_ib, y_pred_test)\n",
    "classrpt = classification_report(y_test_ib, y_pred_test, labels=labels)\n",
    "print(f\"Test  Accuracy   : {accuracy}\")\n",
    "print(classrpt)"
   ]
  },
  {
   "cell_type": "code",
   "execution_count": 25,
   "metadata": {},
   "outputs": [
    {
     "name": "stdout",
     "output_type": "stream",
     "text": [
      "107\n"
     ]
    }
   ],
   "source": [
    "print(y_pred_test.sum())"
   ]
  },
  {
   "cell_type": "markdown",
   "metadata": {},
   "source": [
    "## Modeling over Balanced Data"
   ]
  },
  {
   "cell_type": "code",
   "execution_count": 26,
   "metadata": {},
   "outputs": [
    {
     "name": "stderr",
     "output_type": "stream",
     "text": [
      "/Users/Harper/anaconda3/lib/python3.6/site-packages/sklearn/utils/validation.py:760: DataConversionWarning: A column-vector y was passed when a 1d array was expected. Please change the shape of y to (n_samples, ), for example using ravel().\n",
      "  y = column_or_1d(y, warn=True)\n"
     ]
    },
    {
     "data": {
      "text/plain": [
       "LogisticRegression(C=1.0, class_weight=None, dual=False, fit_intercept=True,\n",
       "                   intercept_scaling=1, l1_ratio=None, max_iter=100,\n",
       "                   multi_class='auto', n_jobs=None, penalty='l2',\n",
       "                   random_state=None, solver='lbfgs', tol=0.0001, verbose=0,\n",
       "                   warm_start=False)"
      ]
     },
     "execution_count": 26,
     "metadata": {},
     "output_type": "execute_result"
    }
   ],
   "source": [
    "# Run Logistic Regression\n",
    "\n",
    "s2_lr = LogisticRegression()\n",
    "s2_lr.fit(X_train_bd, y_train_bd)"
   ]
  },
  {
   "cell_type": "code",
   "execution_count": 27,
   "metadata": {},
   "outputs": [
    {
     "name": "stdout",
     "output_type": "stream",
     "text": [
      "Train Accuracy   : 0.9416311072267064\n",
      "              precision    recall  f1-score   support\n",
      "\n",
      "           0       0.96      0.97      0.97     48628\n",
      "           1       0.85      0.79      0.82      9725\n",
      "\n",
      "    accuracy                           0.94     58353\n",
      "   macro avg       0.90      0.88      0.89     58353\n",
      "weighted avg       0.94      0.94      0.94     58353\n",
      "\n",
      "==============================\n",
      "Test  Accuracy   : 0.970845757016423\n",
      "              precision    recall  f1-score   support\n",
      "\n",
      "           0       1.00      0.97      0.99     20810\n",
      "           1       0.32      0.82      0.46       319\n",
      "\n",
      "    accuracy                           0.97     21129\n",
      "   macro avg       0.66      0.90      0.72     21129\n",
      "weighted avg       0.99      0.97      0.98     21129\n",
      "\n"
     ]
    }
   ],
   "source": [
    "# model evaluation\n",
    "labels = [0, 1]\n",
    "\n",
    "y_pred_train = s2_lr.predict(X_train_bd)\n",
    "accuracy = accuracy_score(y_train_bd, y_pred_train)\n",
    "classrpt = classification_report(y_train_bd, y_pred_train, labels=labels)\n",
    "print(f\"Train Accuracy   : {accuracy}\")\n",
    "print(classrpt)\n",
    "print(\"==============================\")\n",
    "\n",
    "y_pred_test = s2_lr.predict(X_test_ib)\n",
    "accuracy = accuracy_score(y_test_ib, y_pred_test)\n",
    "classrpt = classification_report(y_test_ib, y_pred_test, labels=labels)\n",
    "print(f\"Test  Accuracy   : {accuracy}\")\n",
    "print(classrpt)"
   ]
  },
  {
   "cell_type": "code",
   "execution_count": 28,
   "metadata": {},
   "outputs": [
    {
     "name": "stdout",
     "output_type": "stream",
     "text": [
      "821\n"
     ]
    }
   ],
   "source": [
    "print(y_pred_test.sum())"
   ]
  }
 ],
 "metadata": {
  "kernelspec": {
   "display_name": "Python 3",
   "language": "python",
   "name": "python3"
  },
  "language_info": {
   "codemirror_mode": {
    "name": "ipython",
    "version": 3
   },
   "file_extension": ".py",
   "mimetype": "text/x-python",
   "name": "python",
   "nbconvert_exporter": "python",
   "pygments_lexer": "ipython3",
   "version": "3.6.6"
  }
 },
 "nbformat": 4,
 "nbformat_minor": 2
}
